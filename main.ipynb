{
 "cells": [
  {
   "cell_type": "code",
   "execution_count": 44,
   "metadata": {},
   "outputs": [],
   "source": [
    "import pandas as pd\n",
    "from math import sqrt\n",
    "import numpy as np"
   ]
  },
  {
   "cell_type": "code",
   "execution_count": 45,
   "metadata": {},
   "outputs": [
    {
     "name": "stdout",
     "output_type": "stream",
     "text": [
      "<class 'pandas.core.frame.DataFrame'>\n",
      "RangeIndex: 12294 entries, 0 to 12293\n",
      "Data columns (total 7 columns):\n",
      " #   Column    Non-Null Count  Dtype  \n",
      "---  ------    --------------  -----  \n",
      " 0   anime_id  12294 non-null  int64  \n",
      " 1   name      12294 non-null  object \n",
      " 2   genre     12232 non-null  object \n",
      " 3   type      12269 non-null  object \n",
      " 4   episodes  12294 non-null  object \n",
      " 5   rating    12064 non-null  float64\n",
      " 6   members   12294 non-null  int64  \n",
      "dtypes: float64(1), int64(2), object(4)\n",
      "memory usage: 672.5+ KB\n",
      "None\n"
     ]
    }
   ],
   "source": [
    "anime_df = pd.read_csv('anime.csv')\n",
    "rating_df = pd.read_csv('rating.csv')\n",
    "print(anime_df.info())"
   ]
  },
  {
   "cell_type": "code",
   "execution_count": 46,
   "metadata": {},
   "outputs": [
    {
     "name": "stdout",
     "output_type": "stream",
     "text": [
      "                                                name  rating\n",
      "0  Yosuga no Sora: In Solitude, Where We Are Leas...    6.72\n",
      "1                                       Boku no Pico    5.13\n",
      "2        Ore no Imouto ga Konnani Kawaii Wake ga Nai    7.49\n",
      "3                 Code Geass: Hangyaku no Lelouch R2    8.98\n",
      "4                              Initial D Final Stage    8.29\n"
     ]
    }
   ],
   "source": [
    "userInput = [{'name':'Yosuga no Sora: In Solitude, Where We Are Least Alone.', 'rating':6.72},\n",
    "             {'name':'Boku no Pico', 'rating':5.13},\n",
    "             {'name':'Ore no Imouto ga Konnani Kawaii Wake ga Nai', 'rating':7.49},\n",
    "             {'name':'Code Geass: Hangyaku no Lelouch R2', 'rating':8.98},\n",
    "             {'name':'Initial D Final Stage', 'rating':8.29}]\n",
    "inputAnimes = pd.DataFrame(userInput)\n",
    "print(inputAnimes)"
   ]
  },
  {
   "cell_type": "code",
   "execution_count": 47,
   "metadata": {},
   "outputs": [
    {
     "name": "stdout",
     "output_type": "stream",
     "text": [
      "   anime_id                                               name  rating\n",
      "0      2904                 Code Geass: Hangyaku no Lelouch R2    8.98\n",
      "1     22507                              Initial D Final Stage    8.29\n",
      "2      8769        Ore no Imouto ga Konnani Kawaii Wake ga Nai    7.49\n",
      "3      8861  Yosuga no Sora: In Solitude, Where We Are Leas...    6.72\n",
      "4      1639                                       Boku no Pico    5.13\n"
     ]
    }
   ],
   "source": [
    "inputId = anime_df[anime_df['name'].isin(inputAnimes['name'].tolist())]\n",
    "inputAnimes = pd.merge(inputId, inputAnimes)\n",
    "#inputAnimes = inputAnimes.drop('members') #we don't really need this at the moment\n",
    "inputAnimes = inputAnimes[['anime_id','name','rating']]\n",
    "print(inputAnimes)"
   ]
  },
  {
   "cell_type": "code",
   "execution_count": 48,
   "metadata": {},
   "outputs": [
    {
     "name": "stdout",
     "output_type": "stream",
     "text": [
      "          user_id  rating\n",
      "anime_id                 \n",
      "1639         2475    2475\n",
      "2904        24242   24242\n",
      "8769        13825   13825\n",
      "8861         6687    6687\n",
      "22507         646     646\n"
     ]
    }
   ],
   "source": [
    "userSubset = rating_df[rating_df['anime_id'].isin(inputAnimes['anime_id'].tolist())]\n",
    "print(userSubset.groupby('anime_id').count())"
   ]
  },
  {
   "cell_type": "code",
   "execution_count": 49,
   "metadata": {},
   "outputs": [
    {
     "name": "stdout",
     "output_type": "stream",
     "text": [
      "[((8094,),         user_id  anime_id  rating\n",
      "889958     8094      1639      10\n",
      "890033     8094      2904       9\n",
      "890367     8094      8769       5\n",
      "890371     8094      8861       6\n",
      "890747     8094     22507       8), ((10283,),          user_id  anime_id  rating\n",
      "1065794    10283      1639      -1\n",
      "1065923    10283      2904      -1\n",
      "1066300    10283      8769      -1\n",
      "1066306    10283      8861      -1\n",
      "1066868    10283     22507      -1), ((10654,),          user_id  anime_id  rating\n",
      "1110889    10654      1639       5\n",
      "1110948    10654      2904       6\n",
      "1111160    10654      8769       5\n",
      "1111163    10654      8861       6\n",
      "1111427    10654     22507       7), ((11780,),          user_id  anime_id  rating\n",
      "1248220    11780      1639       1\n",
      "1248235    11780      2904      10\n",
      "1248306    11780      8769       6\n",
      "1248309    11780      8861       7\n",
      "1248452    11780     22507       8), ((23496,),          user_id  anime_id  rating\n",
      "2467456    23496      1639       6\n",
      "2467518    23496      2904       8\n",
      "2467645    23496      8769       6\n",
      "2467646    23496      8861       4\n",
      "2467853    23496     22507       8)]\n"
     ]
    }
   ],
   "source": [
    "#Groupby creates several sub dataframes where they all have the same value in the column specified as the parameter\n",
    "userSubsetGroup = userSubset.groupby(['user_id'])\n",
    "\n",
    "def take_5_elem(x):\n",
    "    # print (len(x[1]))\n",
    "    return len(x[1])\n",
    "    \n",
    "\n",
    "#Sorting it so users with movie most in common with the input will have priority\n",
    "userSubsetGroup = sorted(userSubsetGroup, key=take_5_elem, reverse=True)\n",
    "\n",
    "userSubsetGroup = userSubsetGroup[0:100]\n",
    "print(userSubsetGroup[0:5])"
   ]
  },
  {
   "cell_type": "code",
   "execution_count": 50,
   "metadata": {},
   "outputs": [],
   "source": [
    "#Store the Pearson Correlation in a dictionary, where the key is the user Id and the value is the coefficient\n",
    "pearsonCorrelationDict = {}\n",
    "\n",
    "#For every user group in our subset\n",
    "for name, group in userSubsetGroup:\n",
    "\n",
    "    #Let's start by sorting the input and current user group so the values aren't mixed up later on\n",
    "    group = group.sort_values(by='anime_id')\n",
    "    inputAnimes = inputAnimes.sort_values(by='anime_id')\n",
    "\n",
    "    #Get the N for the formula\n",
    "    nRatings = len(group)\n",
    "\n",
    "    #Get the review scores for the movies that they both have in common\n",
    "    temp_df = inputAnimes[inputAnimes['anime_id'].isin(group['anime_id'].tolist())]\n",
    "\n",
    "    #And then store them in a temporary buffer variable in a list format to facilitate future calculations\n",
    "    tempRatingList = temp_df['rating'].tolist()\n",
    "   \n",
    "    #Let's also put the current user group reviews in a list format\n",
    "    tempGroupList = group['rating'].tolist()\n",
    "   \n",
    "    \n",
    "    #Now let's calculate the pearson correlation between two users, so called, x and y manually (check the formula from week 7 slide)\n",
    "    Sxx = sum([i**2 for i in tempRatingList]) - pow(sum(tempRatingList),2)/float(nRatings)\n",
    "    Syy = sum([i**2 for i in tempGroupList]) - pow(sum(tempGroupList),2)/float(nRatings)\n",
    "    Sxy = sum( i*j for i, j in zip(tempRatingList, tempGroupList)) - sum(tempRatingList)*sum(tempGroupList)/float(nRatings)\n",
    "\n",
    "    #If the denominator is different than zero, then divide, else, 0 correlation.\n",
    "    if Sxx != 0 and Syy != 0:\n",
    "        pearsonCorrelationDict[name] = Sxy/sqrt(Sxx*Syy)\n",
    "    else:\n",
    "        pearsonCorrelationDict[name] = 0"
   ]
  },
  {
   "cell_type": "code",
   "execution_count": 51,
   "metadata": {},
   "outputs": [
    {
     "name": "stdout",
     "output_type": "stream",
     "text": [
      "   similarityIndex   user_id\n",
      "0        -0.163920   (8094,)\n",
      "1         0.000000  (10283,)\n",
      "2         0.599984  (10654,)\n",
      "3         0.944598  (11780,)\n",
      "4         0.647309  (23496,)\n"
     ]
    }
   ],
   "source": [
    "pearsonDF = pd.DataFrame.from_dict(pearsonCorrelationDict, orient='index')\n",
    "pearsonDF.columns = ['similarityIndex']\n",
    "pearsonDF['user_id'] = pearsonDF.index\n",
    "pearsonDF.index = range(len(pearsonDF))\n",
    "print(pearsonDF.head())"
   ]
  },
  {
   "cell_type": "code",
   "execution_count": 52,
   "metadata": {},
   "outputs": [
    {
     "name": "stdout",
     "output_type": "stream",
     "text": [
      "    similarityIndex   user_id\n",
      "41         0.999551   (7297,)\n",
      "87         0.984858  (22434,)\n",
      "17         0.984858    (958,)\n",
      "64         0.980610  (16572,)\n",
      "13         0.965954  (66390,)\n"
     ]
    }
   ],
   "source": [
    "topUsers=pearsonDF.sort_values(by='similarityIndex', ascending=False)[0:50]\n",
    "print(topUsers.head())"
   ]
  },
  {
   "cell_type": "code",
   "execution_count": 53,
   "metadata": {},
   "outputs": [
    {
     "name": "stdout",
     "output_type": "stream",
     "text": [
      "    similarityIndex  user_id  anime_id  rating\n",
      "0          0.999551     7297         1       9\n",
      "1          0.999551     7297         5       9\n",
      "2          0.999551     7297         6       8\n",
      "3          0.999551     7297        16       8\n",
      "4          0.999551     7297        18      10\n",
      "..              ...      ...       ...     ...\n",
      "95         0.999551     7297       355       7\n",
      "96         0.999551     7297       356       8\n",
      "97         0.999551     7297       357       5\n",
      "98         0.999551     7297       376       8\n",
      "99         0.999551     7297       379       9\n",
      "\n",
      "[100 rows x 4 columns]\n"
     ]
    }
   ],
   "source": [
    "\n",
    "\n",
    "# Datatypes were not compatable for doing \".merge\", so i had to change the type\n",
    "topUsers['user_id'] = topUsers['user_id'].astype(str).str.extract('(\\d+)').astype('int64')\n",
    "\n",
    "topUsersRating = pd.merge(topUsers, rating_df, on='user_id', how='inner')\n",
    "print(topUsersRating.head(100))"
   ]
  },
  {
   "cell_type": "code",
   "execution_count": 54,
   "metadata": {},
   "outputs": [
    {
     "name": "stdout",
     "output_type": "stream",
     "text": [
      "   similarityIndex  user_id  anime_id  rating  weightedRating\n",
      "0         0.999551     7297         1       9        8.995961\n",
      "1         0.999551     7297         5       9        8.995961\n",
      "2         0.999551     7297         6       8        7.996410\n",
      "3         0.999551     7297        16       8        7.996410\n",
      "4         0.999551     7297        18      10        9.995513\n"
     ]
    }
   ],
   "source": [
    "#Multiplies the similarity by the user’s ratings\n",
    "topUsersRating['weightedRating'] = topUsersRating['similarityIndex']*topUsersRating['rating']\n",
    "print(topUsersRating.head())"
   ]
  },
  {
   "cell_type": "code",
   "execution_count": 55,
   "metadata": {},
   "outputs": [
    {
     "name": "stdout",
     "output_type": "stream",
     "text": [
      "          sum_similarityIndex  sum_weightedRating\n",
      "anime_id                                         \n",
      "1                   22.752870          184.359253\n",
      "5                   13.365848           96.172147\n",
      "6                   21.934254          170.967695\n",
      "7                    6.122495           36.624501\n",
      "8                    2.629749           16.680777\n"
     ]
    }
   ],
   "source": [
    "#Applies a sum to the topUsers after grouping it up by movieId\n",
    "tempTopUsersRating = topUsersRating.groupby('anime_id').sum()[['similarityIndex','weightedRating']]\n",
    "tempTopUsersRating.columns = ['sum_similarityIndex','sum_weightedRating']\n",
    "print(tempTopUsersRating.head())"
   ]
  },
  {
   "cell_type": "code",
   "execution_count": 56,
   "metadata": {},
   "outputs": [
    {
     "name": "stdout",
     "output_type": "stream",
     "text": [
      "          weighted average recommendation score  anime_id\n",
      "anime_id                                                 \n",
      "1                                      8.102681         1\n",
      "5                                      7.195364         5\n",
      "6                                      7.794553         6\n",
      "7                                      5.981957         7\n",
      "8                                      6.343106         8\n",
      "15                                     8.502588        15\n",
      "16                                     7.790033        16\n",
      "17                                     8.317239        17\n",
      "18                                     8.688118        18\n",
      "19                                     9.092398        19\n"
     ]
    }
   ],
   "source": [
    "#Creates an empty dataframe\n",
    "recommendation_df = pd.DataFrame()\n",
    "\n",
    "#Now we take the weighted average\n",
    "recommendation_df['weighted average recommendation score'] = tempTopUsersRating['sum_weightedRating']/tempTopUsersRating['sum_similarityIndex']\n",
    "recommendation_df['anime_id'] = tempTopUsersRating.index\n",
    "print(recommendation_df.head(10))"
   ]
  },
  {
   "cell_type": "code",
   "execution_count": 57,
   "metadata": {},
   "outputs": [
    {
     "name": "stdout",
     "output_type": "stream",
     "text": [
      "          weighted average recommendation score  anime_id\n",
      "anime_id                                                 \n",
      "32547                                      10.0     32547\n",
      "27881                                      10.0     27881\n",
      "2269                                       10.0      2269\n",
      "7578                                       10.0      7578\n",
      "7416                                       10.0      7416\n",
      "...                                         ...       ...\n",
      "17823                                      -1.0     17823\n",
      "31927                                      -1.0     31927\n",
      "11969                                      -1.0     11969\n",
      "556                                        -1.0       556\n",
      "2571                                       -1.0      2571\n",
      "\n",
      "[6093 rows x 2 columns]\n"
     ]
    }
   ],
   "source": [
    "recommendation_df = recommendation_df.sort_values(by='weighted average recommendation score', ascending=False)\n",
    "print(recommendation_df)"
   ]
  },
  {
   "cell_type": "code",
   "execution_count": 58,
   "metadata": {},
   "outputs": [
    {
     "name": "stdout",
     "output_type": "stream",
     "text": [
      "       anime_id                              name  \\\n",
      "0         32281                    Kimi no Na wa.   \n",
      "1          5114  Fullmetal Alchemist: Brotherhood   \n",
      "2         28977                          Gintama°   \n",
      "3          9253                       Steins;Gate   \n",
      "4          9969                     Gintama&#039;   \n",
      "...         ...                               ...   \n",
      "12221      4369        Kunoichi Gakuen Ninpouchou   \n",
      "12241      4833             Esper Bishoujo Manami   \n",
      "12242      6025                       Battle Can²   \n",
      "12248      5569                      Tsui no Sora   \n",
      "12262     17823                        Ikenai Boy   \n",
      "\n",
      "                                                   genre   type episodes  \\\n",
      "0                   Drama, Romance, School, Supernatural  Movie        1   \n",
      "1      Action, Adventure, Drama, Fantasy, Magic, Mili...     TV       64   \n",
      "2      Action, Comedy, Historical, Parody, Samurai, S...     TV       51   \n",
      "3                                       Sci-Fi, Thriller     TV       24   \n",
      "4      Action, Comedy, Historical, Parody, Samurai, S...     TV       51   \n",
      "...                                                  ...    ...      ...   \n",
      "12221  Action, Comedy, Demons, Hentai, Martial Arts, ...    OVA        6   \n",
      "12241                                             Hentai    OVA        1   \n",
      "12242                             Action, Hentai, Sci-Fi    OVA        1   \n",
      "12248                                             Hentai    OVA        1   \n",
      "12262                              Comedy, Harem, Hentai    OVA        1   \n",
      "\n",
      "       rating  members  \n",
      "0        9.37   200630  \n",
      "1        9.26   793665  \n",
      "2        9.25   114262  \n",
      "3        9.17   673572  \n",
      "4        9.16   151266  \n",
      "...       ...      ...  \n",
      "12221    5.11      955  \n",
      "12241    4.71      608  \n",
      "12242    4.69      484  \n",
      "12248    2.98      934  \n",
      "12262    3.56      179  \n",
      "\n",
      "[6088 rows x 7 columns]\n"
     ]
    }
   ],
   "source": [
    "recommended_anime=anime_df.loc[anime_df['anime_id'].isin(recommendation_df['anime_id'])]\n",
    "\n",
    "#we don't want to recommend the same movie\n",
    "recommended_anime=recommended_anime.loc[~recommended_anime.anime_id.isin(userSubset['anime_id'])]\n",
    "\n",
    "print(recommended_anime)"
   ]
  },
  {
   "cell_type": "code",
   "execution_count": null,
   "metadata": {},
   "outputs": [],
   "source": []
  }
 ],
 "metadata": {
  "kernelspec": {
   "display_name": "Python 3",
   "language": "python",
   "name": "python3"
  },
  "language_info": {
   "codemirror_mode": {
    "name": "ipython",
    "version": 3
   },
   "file_extension": ".py",
   "mimetype": "text/x-python",
   "name": "python",
   "nbconvert_exporter": "python",
   "pygments_lexer": "ipython3",
   "version": "3.10.11"
  }
 },
 "nbformat": 4,
 "nbformat_minor": 2
}
